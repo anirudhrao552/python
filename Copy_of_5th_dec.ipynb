{
  "nbformat": 4,
  "nbformat_minor": 0,
  "metadata": {
    "colab": {
      "name": "Copy of 5th dec",
      "provenance": [],
      "collapsed_sections": []
    },
    "kernelspec": {
      "name": "python3",
      "display_name": "Python 3"
    }
  },
  "cells": [
    {
      "cell_type": "code",
      "metadata": {
        "id": "1cm-ruttKeum",
        "colab_type": "code",
        "outputId": "bd2178a1-c9fa-426c-8ad5-6146ee84f81a",
        "colab": {
          "base_uri": "https://localhost:8080/",
          "height": 85
        }
      },
      "source": [
        "print(max(li))\n",
        "print(min(li))\n",
        "print(sum(li))\n",
        "print(sum(li)//len(li))"
      ],
      "execution_count": 0,
      "outputs": [
        {
          "output_type": "stream",
          "text": [
            "25\n",
            "1\n",
            "56\n",
            "11\n"
          ],
          "name": "stdout"
        }
      ]
    },
    {
      "cell_type": "code",
      "metadata": {
        "id": "2Hjd1of2L4H4",
        "colab_type": "code",
        "outputId": "e825dbcb-0c6b-4125-c50d-0f8e988564a3",
        "colab": {
          "base_uri": "https://localhost:8080/",
          "height": 34
        }
      },
      "source": [
        "li = [1,9,16,25,5]\n",
        "li.append(29) # add the new items\n",
        "li.insert(2,56) \n",
        "print(li)\n"
      ],
      "execution_count": 0,
      "outputs": [
        {
          "output_type": "stream",
          "text": [
            "[1, 9, 56, 16, 25, 5, 29]\n"
          ],
          "name": "stdout"
        }
      ]
    },
    {
      "cell_type": "code",
      "metadata": {
        "id": "BOIFRL4IN6om",
        "colab_type": "code",
        "outputId": "605abcd1-7066-44ac-ddcc-fd04a36b87fd",
        "colab": {
          "base_uri": "https://localhost:8080/",
          "height": 34
        }
      },
      "source": [
        "li.count(9) \n"
      ],
      "execution_count": 0,
      "outputs": [
        {
          "output_type": "execute_result",
          "data": {
            "text/plain": [
              "1"
            ]
          },
          "metadata": {
            "tags": []
          },
          "execution_count": 6
        }
      ]
    },
    {
      "cell_type": "code",
      "metadata": {
        "id": "QFtmWya5O7kA",
        "colab_type": "code",
        "outputId": "0c6d91ff-e964-4be9-cbb6-5b4c94a7a597",
        "colab": {
          "base_uri": "https://localhost:8080/",
          "height": 34
        }
      },
      "source": [
        "li = [1,9,16,56,25,5,9]\n",
        "li.pop(1)\n",
        "li"
      ],
      "execution_count": 0,
      "outputs": [
        {
          "output_type": "execute_result",
          "data": {
            "text/plain": [
              "[1, 16, 56, 25, 5, 9]"
            ]
          },
          "metadata": {
            "tags": []
          },
          "execution_count": 8
        }
      ]
    },
    {
      "cell_type": "code",
      "metadata": {
        "id": "Jvv871mDPgbK",
        "colab_type": "code",
        "outputId": "bd450eba-1126-453a-bf6c-752c8a1da587",
        "colab": {
          "base_uri": "https://localhost:8080/",
          "height": 34
        }
      },
      "source": [
        "li = [1, 16, 56, 25, 5, 9]\n",
        "li.sort()\n",
        "li"
      ],
      "execution_count": 0,
      "outputs": [
        {
          "output_type": "execute_result",
          "data": {
            "text/plain": [
              "[1, 5, 9, 16, 25, 56]"
            ]
          },
          "metadata": {
            "tags": []
          },
          "execution_count": 9
        }
      ]
    },
    {
      "cell_type": "code",
      "metadata": {
        "id": "ggg7-2PQQZGz",
        "colab_type": "code",
        "outputId": "aaa93c41-1d1d-4cb8-c44d-5f7435c592af",
        "colab": {
          "base_uri": "https://localhost:8080/",
          "height": 34
        }
      },
      "source": [
        "li1 = [1,6,19,25]\n",
        "li.extend(li1)\n",
        "li"
      ],
      "execution_count": 0,
      "outputs": [
        {
          "output_type": "execute_result",
          "data": {
            "text/plain": [
              "[1, 5, 9, 16, 25, 56, 1, 6, 19, 25]"
            ]
          },
          "metadata": {
            "tags": []
          },
          "execution_count": 10
        }
      ]
    },
    {
      "cell_type": "code",
      "metadata": {
        "id": "lAt_8ButQ9aB",
        "colab_type": "code",
        "outputId": "cd7a6cfd-6611-4e4d-9dfa-d1356a4ecf15",
        "colab": {
          "base_uri": "https://localhost:8080/",
          "height": 34
        }
      },
      "source": [
        "li1 = [1,6,19,25]\n",
        "li1.reverse()\n",
        "li1"
      ],
      "execution_count": 0,
      "outputs": [
        {
          "output_type": "execute_result",
          "data": {
            "text/plain": [
              "[25, 19, 6, 1]"
            ]
          },
          "metadata": {
            "tags": []
          },
          "execution_count": 13
        }
      ]
    },
    {
      "cell_type": "code",
      "metadata": {
        "id": "BQNkAf6qRxiB",
        "colab_type": "code",
        "outputId": "f430c96f-44fb-4058-a387-b5d41bc872f5",
        "colab": {
          "base_uri": "https://localhost:8080/",
          "height": 51
        }
      },
      "source": [
        "def largenumber(li):\n",
        "    li.sort()\n",
        "    return li[-1]\n",
        "def genericlarge(li,n):\n",
        "    li.sort()\n",
        "    return li[-n]\n",
        "li = [19,1,25,6,9,45,22]\n",
        "print(largenumber(li))\n",
        "print(genericlarge(li,3))\n",
        "    "
      ],
      "execution_count": 0,
      "outputs": [
        {
          "output_type": "stream",
          "text": [
            "45\n",
            "22\n"
          ],
          "name": "stdout"
        }
      ]
    },
    {
      "cell_type": "code",
      "metadata": {
        "id": "To1a3GZ0ToJr",
        "colab_type": "code",
        "outputId": "5195f435-d134-4006-ca48-5b81a34094de",
        "colab": {
          "base_uri": "https://localhost:8080/",
          "height": 51
        }
      },
      "source": [
        "def smallnumber(li):\n",
        "    li.sort()\n",
        "    return li[0]\n",
        "def genericsmall(li,n):\n",
        "    li.sort()\n",
        "    return li[n-1]\n",
        "li = [19,1,25,6,9,45,22]\n",
        "print(smallnumber(li))\n",
        "print(genericsmall(li,3))    "
      ],
      "execution_count": 0,
      "outputs": [
        {
          "output_type": "stream",
          "text": [
            "1\n",
            "9\n"
          ],
          "name": "stdout"
        }
      ]
    },
    {
      "cell_type": "markdown",
      "metadata": {
        "id": "r8V1EFwbZ8ed",
        "colab_type": "text"
      },
      "source": [
        "###TUPLES\n",
        " - paranthesis() ---> Tuple and square brackets[] ----> List\n",
        "  - diff b/w list and tuples\n",
        "     - list are mutable can be changed/modified\n",
        "     - used to access and modify,add,delete  data\n",
        "     - tuples are immutable - cannot be changed\n",
        "     - used to access data only  "
      ]
    },
    {
      "cell_type": "code",
      "metadata": {
        "id": "0fpPklUIbvo8",
        "colab_type": "code",
        "outputId": "a33b73bd-d01e-4763-8e4b-33481bc21910",
        "colab": {
          "base_uri": "https://localhost:8080/",
          "height": 34
        }
      },
      "source": [
        "t1 = (1,2,3,4,5,6)\n",
        "t1\n",
        "print(type(t1),t1[1:5])"
      ],
      "execution_count": 0,
      "outputs": [
        {
          "output_type": "stream",
          "text": [
            "<class 'tuple'> (2, 3, 4, 5)\n"
          ],
          "name": "stdout"
        }
      ]
    },
    {
      "cell_type": "code",
      "metadata": {
        "id": "n8EEfpeQdKC9",
        "colab_type": "code",
        "outputId": "9ad31e07-32c1-47c1-e1de-517b2a7a4885",
        "colab": {
          "base_uri": "https://localhost:8080/",
          "height": 34
        }
      },
      "source": [
        "t1 = [1,2,3,4,5,6]\n",
        "t1\n",
        "print(type(t1),t1[1:6])\n"
      ],
      "execution_count": 0,
      "outputs": [
        {
          "output_type": "stream",
          "text": [
            "<class 'list'> [2, 3, 4, 5, 6]\n"
          ],
          "name": "stdout"
        }
      ]
    },
    {
      "cell_type": "markdown",
      "metadata": {
        "id": "YAeLStP1w1lN",
        "colab_type": "text"
      },
      "source": [
        "Dictionaries\n",
        "1. It works on the concept of set unique data.\n",
        "2. Keys, values is the unique identifier for the value.\n",
        "3. Each key is seperated......."
      ]
    },
    {
      "cell_type": "code",
      "metadata": {
        "id": "GxuMqkLqyIXM",
        "colab_type": "code",
        "outputId": "3da75195-5638-40f2-a997-817602fff2dc",
        "colab": {
          "base_uri": "https://localhost:8080/",
          "height": 34
        }
      },
      "source": [
        "d1 = {\"name\":\"gitam\",\"email id\":\"gitam@gmail.com\",\"address\":\"Hyd\"}\n",
        "d1"
      ],
      "execution_count": 0,
      "outputs": [
        {
          "output_type": "execute_result",
          "data": {
            "text/plain": [
              "{'address': 'Hyd', 'email id': 'gitam@gmail.com', 'name': 'gitam'}"
            ]
          },
          "metadata": {
            "tags": []
          },
          "execution_count": 67
        }
      ]
    },
    {
      "cell_type": "markdown",
      "metadata": {
        "id": "9Ts1_L6_jXT-",
        "colab_type": "text"
      },
      "source": [
        "###strings\n",
        " - Strings\n",
        " - string slicing\n",
        " - Fundamental programming with string in phython"
      ]
    },
    {
      "cell_type": "code",
      "metadata": {
        "colab_type": "code",
        "id": "pZ0JmIFquAyU",
        "outputId": "625b9609-79bf-4287-90cb-f10253524395",
        "colab": {
          "base_uri": "https://localhost:8080/",
          "height": 85
        }
      },
      "source": [
        "s1 = 'python'\n",
        "print(s1[0])\n",
        "print(s1[1])\n",
        "print(s1[5])\n",
        "print(s1[len(s1)-1])\n"
      ],
      "execution_count": 0,
      "outputs": [
        {
          "output_type": "stream",
          "text": [
            "p\n",
            "y\n",
            "n\n",
            "n\n"
          ],
          "name": "stdout"
        }
      ]
    },
    {
      "cell_type": "code",
      "metadata": {
        "id": "koQpr-9lycMN",
        "colab_type": "code",
        "outputId": "8b621b74-e58b-4cf1-982a-10804385be54",
        "colab": {
          "base_uri": "https://localhost:8080/",
          "height": 136
        }
      },
      "source": [
        "s1='Python'\n",
        "print(s1[1:-1])            #printing all the characters except first and last\n",
        "print(s1[len(s1)//2])      #middle of the string  \n",
        "print(s1[-1::-1])          #reverse of the string\n",
        "print(s1[-1:-3:-1])        #access the last two characters in reverse order\n",
        "print(s1[::2])             #to access the alternate of two characters(prints only 1st character for every 2 numbers )\n",
        "print(s1[::3])             #to access the alternate of three characters(prints only 1st character for every 3 numbers )\n",
        "print(s1[::-2])            #to access the reverse of alternate characters"
      ],
      "execution_count": 0,
      "outputs": [
        {
          "output_type": "stream",
          "text": [
            "ytho\n",
            "h\n",
            "nohtyP\n",
            "no\n",
            "Pto\n",
            "Ph\n",
            "nhy\n"
          ],
          "name": "stdout"
        }
      ]
    },
    {
      "cell_type": "code",
      "metadata": {
        "id": "FZ0bmKvJvO4I",
        "colab_type": "code",
        "outputId": "fabd033a-0248-41e0-9f23-bee576eeeff6",
        "colab": {
          "base_uri": "https://localhost:8080/",
          "height": 34
        }
      },
      "source": [
        "def reversestring(str):\n",
        "    return str[-1::-1]\n",
        "reversestring(\"programing\")"
      ],
      "execution_count": 0,
      "outputs": [
        {
          "output_type": "execute_result",
          "data": {
            "text/plain": [
              "'gnimargorp'"
            ]
          },
          "metadata": {
            "tags": []
          },
          "execution_count": 70
        }
      ]
    },
    {
      "cell_type": "code",
      "metadata": {
        "id": "FCwrjo7QxcF9",
        "colab_type": "code",
        "outputId": "901eedfa-0d03-4c1a-d4d4-92948b0afad3",
        "colab": {
          "base_uri": "https://localhost:8080/",
          "height": 51
        }
      },
      "source": [
        "def ispalindrome(str):\n",
        "    if str == str[-1::-1]:\n",
        "        return True\n",
        "    else:\n",
        "        return False\n",
        "    return\n",
        "print(ispalindrome(\"python\"))\n",
        "print(ispalindrome(\"ganag\"))"
      ],
      "execution_count": 0,
      "outputs": [
        {
          "output_type": "stream",
          "text": [
            "False\n",
            "True\n"
          ],
          "name": "stdout"
        }
      ]
    },
    {
      "cell_type": "markdown",
      "metadata": {
        "id": "7pxHgr18zFju",
        "colab_type": "text"
      },
      "source": [
        "###String bulit-in methods\n",
        "1.Upper( ) -- will convert the input string into upper case\n",
        "\n",
        "2.lower( ) -- will convert the input string into lower case"
      ]
    },
    {
      "cell_type": "markdown",
      "metadata": {
        "id": "GPumLeJRzpJn",
        "colab_type": "text"
      },
      "source": [
        "### String boolean Built in methods\n",
        "#1. islower() -- True if the string have all characters lower case\n",
        "#2. isupper() -- True if the string have all characters upper case\n",
        "#3. istitle() -- True if the string in title case\n",
        "#4. isnumeric() -- True if the string numeric\n",
        "#5. isalpha() -- True if the string only alphabets\n",
        "#6. isspace() -- True if the string is space"
      ]
    },
    {
      "cell_type": "code",
      "metadata": {
        "id": "MvkGOFkQzHd6",
        "colab_type": "code",
        "outputId": "7a86e9f2-2674-4a2e-eb25-8fe91492bf1c",
        "colab": {
          "base_uri": "https://localhost:8080/",
          "height": 51
        }
      },
      "source": [
        "s1 = 'python'\n",
        "print(s1.upper())\n",
        "print(s1.lower())"
      ],
      "execution_count": 0,
      "outputs": [
        {
          "output_type": "stream",
          "text": [
            "PYTHON\n",
            "python\n"
          ],
          "name": "stdout"
        }
      ]
    },
    {
      "cell_type": "code",
      "metadata": {
        "id": "Tq2Ufo7lzTpj",
        "colab_type": "code",
        "outputId": "29629cf4-1941-4d48-8447-a1acae972c53",
        "colab": {
          "base_uri": "https://localhost:8080/",
          "height": 51
        }
      },
      "source": [
        "s1 = \"python\"\n",
        "print(s1.islower())\n",
        "print(s1.isupper())"
      ],
      "execution_count": 0,
      "outputs": [
        {
          "output_type": "stream",
          "text": [
            "True\n",
            "False\n"
          ],
          "name": "stdout"
        }
      ]
    },
    {
      "cell_type": "code",
      "metadata": {
        "id": "bC2o135SzZLL",
        "colab_type": "code",
        "outputId": "07fb3894-00e8-4a3b-c95e-04827a26e198",
        "colab": {
          "base_uri": "https://localhost:8080/",
          "height": 51
        }
      },
      "source": [
        "s1 = \"py123456\"\n",
        "s2 = \"python\"\n",
        "print(s1.isalpha())\n",
        "print(s2.isalpha())"
      ],
      "execution_count": 0,
      "outputs": [
        {
          "output_type": "stream",
          "text": [
            "False\n",
            "True\n"
          ],
          "name": "stdout"
        }
      ]
    },
    {
      "cell_type": "markdown",
      "metadata": {
        "id": "bh3c8LGgz5cY",
        "colab_type": "text"
      },
      "source": [
        "###String Methods\n",
        "1.join( ) -- method will concatinates the two strings.\n",
        "\n",
        "2.Split( ) -- split( ) returnds the list of strings seperated by whitespace.\n",
        "\n",
        "3.replace( ) -- replaces the specific word or character with new word/character'"
      ]
    },
    {
      "cell_type": "code",
      "metadata": {
        "id": "Y5OwtlnA0BRO",
        "colab_type": "code",
        "outputId": "0ccf94ed-7559-4013-d8f6-a9804964620f",
        "colab": {
          "base_uri": "https://localhost:8080/",
          "height": 34
        }
      },
      "source": [
        "s1 = 'python'\n",
        "print(\" \".join(s1))"
      ],
      "execution_count": 0,
      "outputs": [
        {
          "output_type": "stream",
          "text": [
            "p y t h o n\n"
          ],
          "name": "stdout"
        }
      ]
    },
    {
      "cell_type": "code",
      "metadata": {
        "id": "FNfSA4kR0MfM",
        "colab_type": "code",
        "outputId": "65b4a774-487d-4a87-92f3-d8a23d12dae0",
        "colab": {
          "base_uri": "https://localhost:8080/",
          "height": 34
        }
      },
      "source": [
        "s2 = \"python programing easy to learn\"\n",
        "print(\",\".join(s2))"
      ],
      "execution_count": 0,
      "outputs": [
        {
          "output_type": "stream",
          "text": [
            "p,y,t,h,o,n, ,p,r,o,g,r,a,m,i,n,g, ,e,a,s,y, ,t,o, ,l,e,a,r,n\n"
          ],
          "name": "stdout"
        }
      ]
    },
    {
      "cell_type": "code",
      "metadata": {
        "id": "O46-U4tG0Qfb",
        "colab_type": "code",
        "outputId": "fce5c9b7-9ba6-44d7-813f-3967abd3629e",
        "colab": {
          "base_uri": "https://localhost:8080/",
          "height": 34
        }
      },
      "source": [
        "li= ['python,programing,learn']\n",
        "print(\",\".join(li))"
      ],
      "execution_count": 0,
      "outputs": [
        {
          "output_type": "stream",
          "text": [
            "python,programing,learn\n"
          ],
          "name": "stdout"
        }
      ]
    },
    {
      "cell_type": "code",
      "metadata": {
        "id": "G0wngkZN0U6z",
        "colab_type": "code",
        "outputId": "6dd60128-3afe-428d-fb17-b6243967741e",
        "colab": {
          "base_uri": "https://localhost:8080/",
          "height": 34
        }
      },
      "source": [
        "s2= \"python programing easy to learn\"\n",
        "print(s2.split())"
      ],
      "execution_count": 0,
      "outputs": [
        {
          "output_type": "stream",
          "text": [
            "['python', 'programing', 'easy', 'to', 'learn']\n"
          ],
          "name": "stdout"
        }
      ]
    },
    {
      "cell_type": "code",
      "metadata": {
        "id": "LooiOL1p0b7T",
        "colab_type": "code",
        "outputId": "b763880b-6ac9-49d8-ba50-f4504a374be9",
        "colab": {
          "base_uri": "https://localhost:8080/",
          "height": 34
        }
      },
      "source": [
        "s2= \"python programing easy to learn\"\n",
        "print(s2.split('a'))"
      ],
      "execution_count": 0,
      "outputs": [
        {
          "output_type": "stream",
          "text": [
            "['python progr', 'ming e', 'sy to le', 'rn']\n"
          ],
          "name": "stdout"
        }
      ]
    },
    {
      "cell_type": "code",
      "metadata": {
        "id": "-5RmyFff0fx7",
        "colab_type": "code",
        "outputId": "c7691880-395c-4216-e89a-b5666fefb8cd",
        "colab": {
          "base_uri": "https://localhost:8080/",
          "height": 68
        }
      },
      "source": [
        "s2= \"python programing easy to learn\"\n",
        "print(len(s2))\n",
        "li= s2.split()\n",
        "print(li)\n",
        "print(len(li))"
      ],
      "execution_count": 0,
      "outputs": [
        {
          "output_type": "stream",
          "text": [
            "31\n",
            "['python', 'programing', 'easy', 'to', 'learn']\n",
            "5\n"
          ],
          "name": "stdout"
        }
      ]
    },
    {
      "cell_type": "code",
      "metadata": {
        "id": "M0QhztMy0ksC",
        "colab_type": "code",
        "outputId": "21922681-8725-4f90-b5a9-25b416c9656f",
        "colab": {
          "base_uri": "https://localhost:8080/",
          "height": 34
        }
      },
      "source": [
        "s2 = \"python programing easy to learn\"\n",
        "li=list(s2)\n",
        "print(li)\n"
      ],
      "execution_count": 0,
      "outputs": [
        {
          "output_type": "stream",
          "text": [
            "['p', 'y', 't', 'h', 'o', 'n', ' ', 'p', 'r', 'o', 'g', 'r', 'a', 'm', 'i', 'n', 'g', ' ', 'e', 'a', 's', 'y', ' ', 't', 'o', ' ', 'l', 'e', 'a', 'r', 'n']\n"
          ],
          "name": "stdout"
        }
      ]
    },
    {
      "cell_type": "code",
      "metadata": {
        "id": "qABhnNHh0n9r",
        "colab_type": "code",
        "outputId": "95e50339-d097-4339-932a-628c584b38a4",
        "colab": {
          "base_uri": "https://localhost:8080/",
          "height": 34
        }
      },
      "source": [
        "s2 = \"python programing easy to learn\"\n",
        "li=list(s2)\n",
        "print(li)\n"
      ],
      "execution_count": 0,
      "outputs": [
        {
          "output_type": "stream",
          "text": [
            "['p', 'y', 't', 'h', 'o', 'n', ' ', 'p', 'r', 'o', 'g', 'r', 'a', 'm', 'i', 'n', 'g', ' ', 'e', 'a', 's', 'y', ' ', 't', 'o', ' ', 'l', 'e', 'a', 'r', 'n']\n"
          ],
          "name": "stdout"
        }
      ]
    },
    {
      "cell_type": "code",
      "metadata": {
        "id": "ld2oHIny0r4K",
        "colab_type": "code",
        "outputId": "698d0bdd-0f42-45b1-d611-6d51be833961",
        "colab": {
          "base_uri": "https://localhost:8080/",
          "height": 34
        }
      },
      "source": [
        "s2 = \"python programing easy to learn\"\n",
        "print(s2.replace(\"gra\",\"application\"))"
      ],
      "execution_count": 0,
      "outputs": [
        {
          "output_type": "stream",
          "text": [
            "python proapplicationming easy to learn\n"
          ],
          "name": "stdout"
        }
      ]
    },
    {
      "cell_type": "code",
      "metadata": {
        "id": "jxM2ixBq0ydr",
        "colab_type": "code",
        "colab": {}
      },
      "source": [
        ""
      ],
      "execution_count": 0,
      "outputs": []
    }
  ]
}