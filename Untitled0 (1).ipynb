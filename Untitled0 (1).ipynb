{
  "nbformat": 4,
  "nbformat_minor": 0,
  "metadata": {
    "colab": {
      "name": "Untitled0.ipynb",
      "provenance": []
    },
    "kernelspec": {
      "name": "python3",
      "display_name": "Python 3"
    }
  },
  "cells": [
    {
      "cell_type": "code",
      "metadata": {
        "id": "C-veGdbsCX8p",
        "colab_type": "code",
        "colab": {}
      },
      "source": [
        ""
      ],
      "execution_count": 0,
      "outputs": []
    },
    {
      "cell_type": "markdown",
      "metadata": {
        "id": "Rk9odboICZWF",
        "colab_type": "text"
      },
      "source": [
        "###Functional programming\n",
        "1. simple\n",
        "2. easy to undersatnd\n",
        "3. better reuseability\n",
        "4. length of program will be divided into sub program"
      ]
    },
    {
      "cell_type": "code",
      "metadata": {
        "id": "8HMl79MLC9aO",
        "colab_type": "code",
        "colab": {}
      },
      "source": [
        "def nameofFunction(<parameters):\n",
        "    statements\n",
        "    return"
      ],
      "execution_count": 0,
      "outputs": []
    },
    {
      "cell_type": "code",
      "metadata": {
        "id": "feautztTFABO",
        "colab_type": "code",
        "colab": {
          "base_uri": "https://localhost:8080/",
          "height": 34
        },
        "outputId": "c68dd2c1-f5b4-497f-960f-3ee35876e45e"
      },
      "source": [
        "def evendigitsum(n):\n",
        "    s = 0\n",
        "    while n !=0:\n",
        "        r = n % 10\n",
        "        if r % 2 ==0:\n",
        "            s = s + r\n",
        "        n = n // 10\n",
        "    return s\n",
        "evendigitsum(1234)         "
      ],
      "execution_count": 3,
      "outputs": [
        {
          "output_type": "execute_result",
          "data": {
            "text/plain": [
              "6"
            ]
          },
          "metadata": {
            "tags": []
          },
          "execution_count": 3
        }
      ]
    },
    {
      "cell_type": "code",
      "metadata": {
        "id": "aSyu99iwGExv",
        "colab_type": "code",
        "colab": {
          "base_uri": "https://localhost:8080/",
          "height": 51
        },
        "outputId": "7e6cdd20-7821-4d7c-eb66-4d0d9021884c"
      },
      "source": [
        "def square(x):\n",
        "    print (x*x)\n",
        "print(square(4))     "
      ],
      "execution_count": 4,
      "outputs": [
        {
          "output_type": "stream",
          "text": [
            "16\n",
            "None\n"
          ],
          "name": "stdout"
        }
      ]
    },
    {
      "cell_type": "code",
      "metadata": {
        "id": "QCO9MvveIMXM",
        "colab_type": "code",
        "colab": {
          "base_uri": "https://localhost:8080/",
          "height": 34
        },
        "outputId": "b3991507-0003-48bb-c7c5-d20165e38c7a"
      },
      "source": [
        "def square(x):\n",
        "    return x*x\n",
        "square(3)    "
      ],
      "execution_count": 6,
      "outputs": [
        {
          "output_type": "execute_result",
          "data": {
            "text/plain": [
              "9"
            ]
          },
          "metadata": {
            "tags": []
          },
          "execution_count": 6
        }
      ]
    },
    {
      "cell_type": "code",
      "metadata": {
        "id": "MSqLMIfKIgb7",
        "colab_type": "code",
        "colab": {
          "base_uri": "https://localhost:8080/",
          "height": 34
        },
        "outputId": "f7c47cbb-cd70-4377-f3da-9658fd533434"
      },
      "source": [
        "def cube(x):\n",
        "    return x*x*x\n",
        "cube(2)    "
      ],
      "execution_count": 7,
      "outputs": [
        {
          "output_type": "execute_result",
          "data": {
            "text/plain": [
              "8"
            ]
          },
          "metadata": {
            "tags": []
          },
          "execution_count": 7
        }
      ]
    },
    {
      "cell_type": "code",
      "metadata": {
        "id": "9ETDI01xJJvV",
        "colab_type": "code",
        "colab": {
          "base_uri": "https://localhost:8080/",
          "height": 51
        },
        "outputId": "6666afed-f57c-4956-ffae-dafd493cdae3"
      },
      "source": [
        "def cube(x):\n",
        "    print (x*x*x)\n",
        "print(cube(4))"
      ],
      "execution_count": 10,
      "outputs": [
        {
          "output_type": "stream",
          "text": [
            "64\n",
            "None\n"
          ],
          "name": "stdout"
        }
      ]
    },
    {
      "cell_type": "code",
      "metadata": {
        "id": "DAXQW-q0Je-0",
        "colab_type": "code",
        "colab": {
          "base_uri": "https://localhost:8080/",
          "height": 68
        },
        "outputId": "07f5516f-472a-4afd-dabc-f0a718426161"
      },
      "source": [
        "def multiply(x,y=0):\n",
        "    print(\"value of x=\",x)\n",
        "    print(\"value of y=\",y)\n",
        "    return(x*y)\n",
        "print(multiply(y=2,x=4))"
      ],
      "execution_count": 11,
      "outputs": [
        {
          "output_type": "stream",
          "text": [
            "value of x= 4\n",
            "value of y= 2\n",
            "8\n"
          ],
          "name": "stdout"
        }
      ]
    },
    {
      "cell_type": "code",
      "metadata": {
        "id": "LRBVZ83pLBQk",
        "colab_type": "code",
        "colab": {
          "base_uri": "https://localhost:8080/",
          "height": 34
        },
        "outputId": "c502f560-d0fa-410e-8bfb-3567dd69ba24"
      },
      "source": [
        "def swap(x,y):\n",
        "    temp=x\n",
        "    x=y\n",
        "    y = temp\n",
        "    return x,y\n",
        "swap(2,3)\n"
      ],
      "execution_count": 25,
      "outputs": [
        {
          "output_type": "execute_result",
          "data": {
            "text/plain": [
              "(3, 2)"
            ]
          },
          "metadata": {
            "tags": []
          },
          "execution_count": 25
        }
      ]
    },
    {
      "cell_type": "code",
      "metadata": {
        "id": "Quc9Ldq8NH-M",
        "colab_type": "code",
        "colab": {
          "base_uri": "https://localhost:8080/",
          "height": 34
        },
        "outputId": "6329d656-084e-4293-ae02-03a373554b91"
      },
      "source": [
        "\n",
        "def largedigit(n):\n",
        "    large = 0\n",
        "    while n!=0:\n",
        "      r=n%10\n",
        "      if large < r:\n",
        "          large = r\n",
        "      n=n//10\n",
        "    return large\n",
        "largedigit(19535)      "
      ],
      "execution_count": 26,
      "outputs": [
        {
          "output_type": "execute_result",
          "data": {
            "text/plain": [
              "9"
            ]
          },
          "metadata": {
            "tags": []
          },
          "execution_count": 26
        }
      ]
    },
    {
      "cell_type": "code",
      "metadata": {
        "id": "TyW01qsZRXAn",
        "colab_type": "code",
        "colab": {
          "base_uri": "https://localhost:8080/",
          "height": 34
        },
        "outputId": "0c02b6b1-2c03-48b4-d71d-a24571201b06"
      },
      "source": [
        "def printseries(lb,ub):\n",
        "    for x in range (lb,ub+1):\n",
        "        print(x,end = ' ')\n",
        "    return\n",
        "printseries(1,10)        "
      ],
      "execution_count": 28,
      "outputs": [
        {
          "output_type": "stream",
          "text": [
            "1 2 3 4 5 6 7 8 9 10 "
          ],
          "name": "stdout"
        }
      ]
    },
    {
      "cell_type": "markdown",
      "metadata": {
        "id": "c9XN4VpjWuHf",
        "colab_type": "text"
      },
      "source": [
        ""
      ]
    },
    {
      "cell_type": "markdown",
      "metadata": {
        "id": "9O5jUaPiWvcW",
        "colab_type": "text"
      },
      "source": [
        "#COLLECTION TYPES\n",
        "1.LIST\n",
        "2.TUPLE\n",
        "3.SET\n",
        "4.DICTIONARY\n"
      ]
    },
    {
      "cell_type": "markdown",
      "metadata": {
        "id": "ckjpZ1XsXZ82",
        "colab_type": "text"
      },
      "source": [
        "#### LIST\n",
        "- one of the data structure in python\n",
        "- Data structure means to store, sort and search options\n",
        "- Its one common data structure in python,the items of list sepearated by comma and enclosed in square brackets\n"
      ]
    },
    {
      "cell_type": "code",
      "metadata": {
        "id": "PojGZEhKYnIe",
        "colab_type": "code",
        "colab": {}
      },
      "source": [
        "li = [1,8,16,9,2]\n",
        "print(li)#will print all the list items\n",
        "print(li[0])\n",
        "print(li[1])\n",
        "print(li[-5])\n",
        "print(li[1:])"
      ],
      "execution_count": 0,
      "outputs": []
    }
  ]
}